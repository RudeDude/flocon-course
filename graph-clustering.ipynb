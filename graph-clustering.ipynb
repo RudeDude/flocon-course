{
 "cells": [
  {
   "cell_type": "markdown",
   "metadata": {},
   "source": [
    "# Graph Clustering using Louvain Clustering"
   ]
  },
  {
   "cell_type": "code",
   "execution_count": null,
   "metadata": {},
   "outputs": [],
   "source": [
    "import networkx as nx\n",
    "import community\n",
    "import matplotlib.pyplot as plt\n",
    "from matplotlib import cm"
   ]
  },
  {
   "cell_type": "code",
   "execution_count": null,
   "metadata": {},
   "outputs": [],
   "source": [
    "# Network X provides a graph data structure for our use\n",
    "g = nx.Graph()"
   ]
  },
  {
   "cell_type": "code",
   "execution_count": null,
   "metadata": {},
   "outputs": [],
   "source": [
    "filename = \"data/two-hour-sample.csv\"\n",
    "\n",
    "# 192.168.0.1 is the router and DNS server, every internal host connects to it so we exclude it from our graph\n",
    "ignore = set(\"192.168.0.1\")"
   ]
  },
  {
   "cell_type": "code",
   "execution_count": null,
   "metadata": {},
   "outputs": [],
   "source": [
    "# Process the file, tracking internal IPs and external IPs separately\n",
    "# NOTE: our internal IP range is 192.168.0.0/24\n",
    "\n",
    "internal_nodes = {}\n",
    "external_nodes = {}\n",
    "\n",
    "inputfile = open(filename, 'r')\n",
    "for flow in inputfile:\n",
    "    flow = flow.strip()\n",
    "    fields = flow.split(\",\")\n",
    "    src = fields[4] # Project only the source and destination IP addresses\n",
    "    dest = fields[7] # ignore all of the other fields\n",
    "    if dest not in ignore:\n",
    "        g.add_node(src)\n",
    "        if src.startswith(\"192.168.0.\"):\n",
    "            internal_nodes[src] = 1\n",
    "        else:\n",
    "            external_nodes[src] = 1\n",
    "        g.add_node(dest)\n",
    "        if dest.startswith(\"192.168.0.\"):\n",
    "            internal_nodes[dest] = 1\n",
    "        else:\n",
    "            external_nodes[dest] = 1\n",
    "        g.add_edge(src, dest)\n",
    "        #print(src + \" \" + dest)"
   ]
  },
  {
   "cell_type": "code",
   "execution_count": null,
   "metadata": {},
   "outputs": [],
   "source": [
    "outdeg = nx.degree(g)\n",
    "print(g.number_of_nodes())\n",
    "draw_graph = nx.Graph()\n",
    "draw_graph.add_nodes_from(internal_nodes.keys())"
   ]
  },
  {
   "cell_type": "code",
   "execution_count": null,
   "metadata": {},
   "outputs": [],
   "source": [
    "# We are doing some magic here to remove external nodes \n",
    "# that only connect to a single internal host. These nodes cannot contribute\n",
    "# to the clustering and are removed.\n",
    "external_print_nodes = []\n",
    "for node in external_nodes.keys():\n",
    "    if outdeg[node] > 1:\n",
    "        external_print_nodes.append(node)\n",
    "        draw_graph.add_node(node)\n",
    "\n",
    "edges_to_draw = []\n",
    "edges = nx.edges(g)\n",
    "for edge in edges:\n",
    "    both_internal = edge[0] in internal_nodes.keys(\n",
    "    ) and edge[1] in internal_nodes.keys()\n",
    "    src_internal = edge[0] in internal_nodes.keys(\n",
    "    ) and edge[1] in external_print_nodes\n",
    "    dest_internal = edge[1] in internal_nodes.keys(\n",
    "    ) and edge[0] in external_print_nodes\n",
    "\n",
    "    if both_internal or src_internal or dest_internal:\n",
    "        edges_to_draw.append(edge)\n",
    "        draw_graph.add_edge(edge[0], edge[1])"
   ]
  },
  {
   "cell_type": "code",
   "execution_count": null,
   "metadata": {},
   "outputs": [],
   "source": [
    "n = draw_graph.number_of_nodes()\n",
    "e = draw_graph.number_of_edges()\n",
    "print(n)\n",
    "print(e)"
   ]
  },
  {
   "cell_type": "code",
   "execution_count": null,
   "metadata": {},
   "outputs": [],
   "source": [
    "# Run Louvain Clustering \n",
    "cluster_graph = nx.Graph()\n",
    "\n",
    "for edge in nx.edges(draw_graph):\n",
    "    cluster_graph.add_edge(edge[0], edge[1])\n",
    "\n",
    "clusters = community.best_partition(cluster_graph)"
   ]
  },
  {
   "cell_type": "code",
   "execution_count": null,
   "metadata": {},
   "outputs": [],
   "source": [
    "# Plot the clustered graph with colors identifing the clusters\n",
    "labels = {}\n",
    "for node, c in clusters.items():\n",
    "        cluster = []\n",
    "        if c in labels.keys():\n",
    "            cluster = labels[c]\n",
    "        cluster.append(node)\n",
    "        labels[c] = cluster\n",
    "\n",
    "greens = cm.get_cmap('Greens', 13)\n",
    "colors = greens(range(13))\n",
    "\n",
    "print(len(labels.keys()))\n",
    "\n",
    "pos = nx.spring_layout(draw_graph, 0.05)  # positions for all nodes\n",
    "\n",
    "index = 0\n",
    "for _, cluster in labels.items():\n",
    "    nx.draw_networkx_nodes(draw_graph, pos,\n",
    "                           nodelist=cluster,\n",
    "                           node_color=colors[index],\n",
    "                           node_size=10)\n",
    "    index = index + 1\n",
    "\n",
    "\n",
    "nx.draw_networkx_edges(draw_graph, pos, edges_to_draw, width=0.8)\n",
    "\n",
    "plt.axis('off')\n",
    "plt.show()"
   ]
  }
 ],
 "metadata": {
  "kernelspec": {
   "display_name": "Python 3 (ipykernel)",
   "language": "python",
   "name": "python3"
  },
  "language_info": {
   "codemirror_mode": {
    "name": "ipython",
    "version": 3
   },
   "file_extension": ".py",
   "mimetype": "text/x-python",
   "name": "python",
   "nbconvert_exporter": "python",
   "pygments_lexer": "ipython3",
   "version": "3.9.7"
  }
 },
 "nbformat": 4,
 "nbformat_minor": 2
}
